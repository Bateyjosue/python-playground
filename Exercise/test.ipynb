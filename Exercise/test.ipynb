{
 "cells": [
  {
   "cell_type": "code",
   "execution_count": 24,
   "id": "c4e2b947",
   "metadata": {},
   "outputs": [
    {
     "name": "stdout",
     "output_type": "stream",
     "text": [
      "Requirement already satisfied: scikit-learn in c:\\users\\josue\\.conda\\envs\\env\\lib\\site-packages (1.3.1)\n",
      "Requirement already satisfied: numpy<2.0,>=1.17.3 in c:\\users\\josue\\.conda\\envs\\env\\lib\\site-packages (from scikit-learn) (1.26.0)\n",
      "Requirement already satisfied: scipy>=1.5.0 in c:\\users\\josue\\.conda\\envs\\env\\lib\\site-packages (from scikit-learn) (1.11.3)\n",
      "Requirement already satisfied: joblib>=1.1.1 in c:\\users\\josue\\.conda\\envs\\env\\lib\\site-packages (from scikit-learn) (1.3.2)\n",
      "Requirement already satisfied: threadpoolctl>=2.0.0 in c:\\users\\josue\\.conda\\envs\\env\\lib\\site-packages (from scikit-learn) (3.2.0)\n"
     ]
    }
   ],
   "source": [
    "!pip install scikit-learn"
   ]
  },
  {
   "cell_type": "code",
   "execution_count": 80,
   "id": "a678e271",
   "metadata": {},
   "outputs": [],
   "source": [
    "import pandas as pd\n",
    "from sklearn.tree import DecisionTreeClassifier\n",
    "from sklearn.model_selection import train_test_split\n",
    "from sklearn.metrics import accuracy_score\n",
    "# from sklearn.externals import joblib\n",
    "import joblib\n",
    "from sklearn import tree\n",
    "\n",
    "df = pd.read_csv('musics.csv')\n"
   ]
  },
  {
   "cell_type": "code",
   "execution_count": 10,
   "id": "61acd2da",
   "metadata": {},
   "outputs": [],
   "source": [
    "# CLeaning and prepare data"
   ]
  },
  {
   "cell_type": "code",
   "execution_count": 11,
   "id": "36ff6e05",
   "metadata": {},
   "outputs": [],
   "source": [
    "# Prepare the data to get the input(age, gender) set and output(genre) set"
   ]
  },
  {
   "cell_type": "code",
   "execution_count": 72,
   "id": "7bea3ced",
   "metadata": {},
   "outputs": [],
   "source": [
    "x = df.drop(columns=['genre'])\n",
    "y = df['genre']"
   ]
  },
  {
   "cell_type": "code",
   "execution_count": 29,
   "id": "83809336",
   "metadata": {},
   "outputs": [
    {
     "name": "stderr",
     "output_type": "stream",
     "text": [
      "C:\\Users\\josue\\.conda\\envs\\env\\Lib\\site-packages\\sklearn\\base.py:465: UserWarning: X does not have valid feature names, but DecisionTreeClassifier was fitted with feature names\n",
      "  warnings.warn(\n"
     ]
    },
    {
     "data": {
      "text/plain": [
       "array(['HipHop', 'Acoustic'], dtype=object)"
      ]
     },
     "execution_count": 29,
     "metadata": {},
     "output_type": "execute_result"
    }
   ],
   "source": [
    "# Create a model using Decision tree\n",
    "# This script predict the music genre according to the age and gender\n",
    "\n",
    "model = DecisionTreeClassifier()\n",
    "\n",
    "model.fit(x, y)\n",
    "\n",
    "predictions = model.predict([\n",
    "    [21, 1],\n",
    "    [26, 0]\n",
    "])\n",
    "\n",
    "predictions"
   ]
  },
  {
   "cell_type": "code",
   "execution_count": 63,
   "id": "e8c0c067",
   "metadata": {},
   "outputs": [
    {
     "data": {
      "text/plain": [
       "1.0"
      ]
     },
     "execution_count": 63,
     "metadata": {},
     "output_type": "execute_result"
    }
   ],
   "source": [
    "# Measure Model Accurancy, if not accurate choose different algorithm or finetune it, \n",
    "\n",
    "# Split the data set one for training(70 to 80% of our data should be passed) and \n",
    "# another for testing(30 to 20% of our dataof our data should be passed)\n",
    "\n",
    "# the more data we give to our model the cleaner/accurate our model is\n",
    "x_train, x_test,y_train,y_test = train_test_split(x, y,test_size = 0.2)\n",
    "model = DecisionTreeClassifier()\n",
    "\n",
    "model.fit(x_train, y_train)\n",
    "\n",
    "predictions = model.predict(x_test)\n",
    "\n",
    "score = accuracy_score(y_test, predictions)\n",
    "score\n"
   ]
  },
  {
   "cell_type": "code",
   "execution_count": 65,
   "id": "388f3e50",
   "metadata": {},
   "outputs": [
    {
     "data": {
      "text/plain": [
       "'\\n    \\n'"
      ]
     },
     "execution_count": 65,
     "metadata": {},
     "output_type": "execute_result"
    }
   ],
   "source": [
    "'''\n",
    "    Load model from a file and use it...\n",
    "'''\n",
    "\n",
    "# PERSISTIGING MODELS"
   ]
  },
  {
   "cell_type": "code",
   "execution_count": 74,
   "id": "d88630ea",
   "metadata": {},
   "outputs": [
    {
     "data": {
      "text/plain": [
       "['music-model.joblib']"
      ]
     },
     "execution_count": 74,
     "metadata": {},
     "output_type": "execute_result"
    }
   ],
   "source": [
    "# Install our model in a file\n",
    "\n",
    "model = DecisionTreeClassifier()\n",
    "\n",
    "model.fit(x, y)\n",
    "joblib.dump(model, 'music-model.joblib')"
   ]
  },
  {
   "cell_type": "code",
   "execution_count": 78,
   "id": "55b8b629",
   "metadata": {},
   "outputs": [
    {
     "name": "stderr",
     "output_type": "stream",
     "text": [
      "C:\\Users\\josue\\.conda\\envs\\env\\Lib\\site-packages\\sklearn\\base.py:465: UserWarning: X does not have valid feature names, but DecisionTreeClassifier was fitted with feature names\n",
      "  warnings.warn(\n"
     ]
    },
    {
     "data": {
      "text/plain": [
       "array(['HipHop'], dtype=object)"
      ]
     },
     "execution_count": 78,
     "metadata": {},
     "output_type": "execute_result"
    }
   ],
   "source": [
    "# Load our model\n",
    "our_model = joblib.load('music-model.joblib')\n",
    "our_predictions = model.predict([[1, 1]])\n",
    "\n",
    "our_predictions"
   ]
  },
  {
   "cell_type": "code",
   "execution_count": 83,
   "id": "e15a4809",
   "metadata": {},
   "outputs": [],
   "source": [
    "# Visualizing A decision Tree\n",
    "\n",
    "\n",
    "tree.export_graphviz(model, \n",
    "                     out_file='music.dot', \n",
    "                     feature_names=['age', 'gender'], \n",
    "                     class_names= sorted(y.unique()), \n",
    "                     label='all', \n",
    "                     rounded=True, \n",
    "                     filled=True)"
   ]
  }
 ],
 "metadata": {
  "kernelspec": {
   "display_name": "Python 3 (ipykernel)",
   "language": "python",
   "name": "python3"
  },
  "language_info": {
   "codemirror_mode": {
    "name": "ipython",
    "version": 3
   },
   "file_extension": ".py",
   "mimetype": "text/x-python",
   "name": "python",
   "nbconvert_exporter": "python",
   "pygments_lexer": "ipython3",
   "version": "3.11.5"
  },
  "widgets": {
   "application/vnd.jupyter.widget-state+json": {
    "state": {},
    "version_major": 2,
    "version_minor": 0
   }
  }
 },
 "nbformat": 4,
 "nbformat_minor": 5
}
